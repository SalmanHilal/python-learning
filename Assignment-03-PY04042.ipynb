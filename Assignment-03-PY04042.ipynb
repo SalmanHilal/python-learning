{
 "cells": [
  {
   "cell_type": "code",
   "execution_count": 2,
   "metadata": {},
   "outputs": [
    {
     "name": "stdout",
     "output_type": "stream",
     "text": [
      "Select operator from +, -, *, / :9\n",
      "Enter first number: 4\n",
      "Enter second number: 5\n",
      "Invalid input\n"
     ]
    }
   ],
   "source": [
    "# Task 01\n",
    "def add(num1, num2): \n",
    "    return num1 + num2   \n",
    "def subtract(num1, num2): \n",
    "    return num1 - num2 \n",
    "def multiply(num1, num2): \n",
    "    return num1 * num2 \n",
    "def divide(num1, num2): \n",
    "    return num1 / num2 \n",
    "select = input(\"Select operator from +, -, *, / :\") \n",
    "number_1 = int(input(\"Enter first number: \")) \n",
    "number_2 = int(input(\"Enter second number: \")) \n",
    "if select == '+': \n",
    "    print(number_1, \"+\", number_2, \"=\", \n",
    "                    add(number_1, number_2)) \n",
    "elif select == '-': \n",
    "    print(number_1, \"-\", number_2, \"=\", \n",
    "                    subtract(number_1, number_2)) \n",
    "elif select == '*': \n",
    "    print(number_1, \"*\", number_2, \"=\", \n",
    "                    multiply(number_1, number_2)) \n",
    "elif select == '/': \n",
    "    print(number_1, \"/\", number_2, \"=\", \n",
    "                    divide(number_1, number_2)) \n",
    "else: \n",
    "    print(\"Invalid input\") "
   ]
  },
  {
   "cell_type": "code",
   "execution_count": 6,
   "metadata": {},
   "outputs": [
    {
     "name": "stdout",
     "output_type": "stream",
     "text": [
      "[3, 4, 4, 9, 0]\n"
     ]
    }
   ],
   "source": [
    "# Task 02\n",
    "mylist = [3,4,'orange',4,'blue',9,'green',0]\n",
    "new_list = []\n",
    "for value in mylist:\n",
    "    try:\n",
    "        new_list.append(int(value))\n",
    "    except ValueError:\n",
    "        continue\n",
    "print(new_list)"
   ]
  },
  {
   "cell_type": "code",
   "execution_count": 10,
   "metadata": {},
   "outputs": [
    {
     "name": "stdout",
     "output_type": "stream",
     "text": [
      "Enter position in dictionary: 1\n",
      "Enter value: gold\n",
      "{1: 'gold'}\n"
     ]
    }
   ],
   "source": [
    "#Task 03\n",
    "class my_dictionary(dict): \n",
    "    def __init__(self): \n",
    "        self = dict() \n",
    "    def add(self, key, value): \n",
    "        self[key] = value \n",
    "dict_obj = my_dictionary() \n",
    "pos = int(input(\"Enter position in dictionary: \"))\n",
    "key = input(\"Enter value: \")\n",
    "dict_obj.add(pos, key)  \n",
    "  \n",
    "print(dict_obj) "
   ]
  },
  {
   "cell_type": "code",
   "execution_count": 11,
   "metadata": {},
   "outputs": [
    {
     "name": "stdout",
     "output_type": "stream",
     "text": [
      "Sum : 60\n"
     ]
    }
   ],
   "source": [
    "#Task 04\n",
    "def returnSum(myDict): \n",
    "    sum = 0\n",
    "    for i in myDict: \n",
    "        sum = sum + myDict[i] \n",
    "    return sum \n",
    "dict = {'x': 10, 'y':20, 'z':30} \n",
    "print(\"Sum :\", returnSum(dict)) "
   ]
  },
  {
   "cell_type": "code",
   "execution_count": 18,
   "metadata": {},
   "outputs": [
    {
     "name": "stdout",
     "output_type": "stream",
     "text": [
      "Duplicates values in list are:  [1, 2, 5]\n"
     ]
    }
   ],
   "source": [
    "#Task 05\n",
    "a = [1,2,3,2,1,5,6,5,5,5]\n",
    "import collections\n",
    "duplicates = [item for item, count in collections.Counter(a).items() if count > 1]\n",
    "print(\"Duplicates values in list are: \",duplicates)"
   ]
  },
  {
   "cell_type": "code",
   "execution_count": 21,
   "metadata": {},
   "outputs": [
    {
     "name": "stdout",
     "output_type": "stream",
     "text": [
      "Enter number to check in distionary: 31\n",
      "Key is not present in the dictionary\n"
     ]
    }
   ],
   "source": [
    "#Task 06\n",
    "d = {1: 10, 2: 20, 3: 30, 4: 40, 5: 50, 6: 60}\n",
    "def check_key(x):\n",
    "  if x in d:\n",
    "      print('Key is present in the dictionary')\n",
    "  else:\n",
    "      print('Key is not present in the dictionary')\n",
    "num = int(input(\"Enter number to check in distionary: \"))\n",
    "check_key(num)"
   ]
  },
  {
   "cell_type": "code",
   "execution_count": null,
   "metadata": {},
   "outputs": [],
   "source": []
  },
  {
   "cell_type": "code",
   "execution_count": null,
   "metadata": {},
   "outputs": [],
   "source": []
  }
 ],
 "metadata": {
  "kernelspec": {
   "display_name": "Python 3",
   "language": "python",
   "name": "python3"
  },
  "language_info": {
   "codemirror_mode": {
    "name": "ipython",
    "version": 3
   },
   "file_extension": ".py",
   "mimetype": "text/x-python",
   "name": "python",
   "nbconvert_exporter": "python",
   "pygments_lexer": "ipython3",
   "version": "3.7.4"
  }
 },
 "nbformat": 4,
 "nbformat_minor": 2
}
