{
 "cells": [
  {
   "cell_type": "code",
   "execution_count": null,
   "metadata": {},
   "outputs": [],
   "source": [
    "# Task 01\n",
    "sub1=int(input(\"Enter marks of the Math: \"))\n",
    "sub2=int(input(\"Enter marks of the Computer Science: \"))\n",
    "sub3=int(input(\"Enter marks of the English: \"))\n",
    "sub4=int(input(\"Enter marks of the Physics: \"))\n",
    "sub5=int(input(\"Enter marks of the Chemistry: \"))\n",
    "avg=(sub1+sub2+sub3+sub4+sub4)/5\n",
    "if avg >= 80 and avg <= 100:\n",
    "    print('Grade: A+');\n",
    "elif avg >= 70 and avg <= 80:\n",
    "    print('Grade: A');\n",
    "elif avg >= 60 and avg <= 70:\n",
    "    print('Grade: B');\n",
    "elif avg >= 50 and avg <= 60:\n",
    "    print('Grade: C');\n",
    "elif avg >= 40 and avg <= 50:\n",
    "    print('Grade: D');\n",
    "elif avg >= 33 and avg <= 40:\n",
    "    print('Grade: E');\n",
    "elif avg >= 0 and avg <= 33:\n",
    "    print('Grade: F');\n",
    "else:\n",
    "    print('You have entered an inappropriate percentage!')"
   ]
  },
  {
   "cell_type": "code",
   "execution_count": null,
   "metadata": {},
   "outputs": [],
   "source": [
    "#Task 02\n",
    "num = int(input(\"Enter a number: \"));\n",
    "mod = num % 2\n",
    "if mod > 0:\n",
    "    print(\"You have entered an odd number.\");\n",
    "else:\n",
    "    print(\"You have entered an even number.\");"
   ]
  },
  {
   "cell_type": "code",
   "execution_count": null,
   "metadata": {},
   "outputs": [],
   "source": [
    "#Task 03\n",
    "numbers = [2,  8,  5,  200]\n",
    "print(len(numbers))"
   ]
  },
  {
   "cell_type": "code",
   "execution_count": null,
   "metadata": {},
   "outputs": [],
   "source": [
    "#Task 04\n",
    "numbers = [7, 15, 12, 19, 24, 2]\n",
    "total = sum(numbers)\n",
    "print(total)"
   ]
  },
  {
   "cell_type": "code",
   "execution_count": null,
   "metadata": {},
   "outputs": [],
   "source": [
    "#Task 05\n",
    "list1 = [10, 37, 105, 41, 10] \n",
    "print(\"Largest number is:\", max(list1))"
   ]
  },
  {
   "cell_type": "code",
   "execution_count": null,
   "metadata": {},
   "outputs": [],
   "source": [
    "#Task 06\n",
    "a = [1, 1, 2, 3, 5, 8, 13, 21, 34, 55, 89]\n",
    "b,c = zip(*[(d, x) for d, x in enumerate(a) if x < 5])\n",
    "print(c)"
   ]
  },
  {
   "cell_type": "code",
   "execution_count": null,
   "metadata": {},
   "outputs": [],
   "source": []
  }
 ],
 "metadata": {
  "kernelspec": {
   "display_name": "Python 3",
   "language": "python",
   "name": "python3"
  },
  "language_info": {
   "codemirror_mode": {
    "name": "ipython",
    "version": 3
   },
   "file_extension": ".py",
   "mimetype": "text/x-python",
   "name": "python",
   "nbconvert_exporter": "python",
   "pygments_lexer": "ipython3",
   "version": "3.7.4"
  }
 },
 "nbformat": 4,
 "nbformat_minor": 2
}
