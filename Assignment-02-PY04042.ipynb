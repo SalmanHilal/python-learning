{
 "cells": [
  {
   "cell_type": "code",
   "execution_count": 8,
   "metadata": {},
   "outputs": [
    {
     "name": "stdout",
     "output_type": "stream",
     "text": [
      "Enter Your Percentage: 32.9\n",
      "F\n"
     ]
    }
   ],
   "source": [
    "percent = float(input('Enter Your Percentage: '));\n",
    "if percent >= 80 and percent <= 100:\n",
    "    print('A+');\n",
    "elif percent >= 70 and percent <= 80:\n",
    "    print('A');\n",
    "elif percent >= 60 and percent <= 70:\n",
    "    print('B');\n",
    "elif percent >= 50 and percent <= 60:\n",
    "    print('C');\n",
    "elif percent >= 40 and percent <= 50:\n",
    "    print('D');\n",
    "elif percent >= 33 and percent <= 40:\n",
    "    print('E');\n",
    "elif percent >= 0 and percent <= 33:\n",
    "    print('F');\n",
    "else:\n",
    "    print('You have entered an inappropriate percentage!');"
   ]
  },
  {
   "cell_type": "code",
   "execution_count": null,
   "metadata": {},
   "outputs": [],
   "source": []
  }
 ],
 "metadata": {},
 "nbformat": 4,
 "nbformat_minor": 2
}
