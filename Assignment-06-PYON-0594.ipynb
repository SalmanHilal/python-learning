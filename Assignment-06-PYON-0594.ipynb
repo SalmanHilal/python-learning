{
 "cells": [
  {
   "cell_type": "markdown",
   "metadata": {},
   "source": [
    "###### Task 01: Object-Oriented Programming\n",
    "Object-Oriented Programming or OOPs refers to languages that uses objects in programming. Object-oriented programming aims to implement real-world entities like inheritance, hiding, polymorphism etc in programming. The main aim of OOP is to bind together the data and the functions that operate on them so that no other part of the code can access this data except that function.\n",
    "OOPs Concepts:\n",
    "Polymorphism\n",
    "Inheritance\n",
    "Encapsulation\n",
    "Abstraction\n",
    "Class\n",
    "Object\n",
    "Method"
   ]
  },
  {
   "cell_type": "markdown",
   "metadata": {},
   "source": [
    "###### Task 02: Benefits of OOP\n",
    "\n",
    "Through inheritance, we can eliminate redundant code and extend the use of existing classes.\n",
    "\n",
    "We can built programs from standard working modules that communicate with one another rather than, having to start writing the code from scratch. This leads to saving of development time and higher productivity.\n",
    "\n",
    "The principle of data hiding helps the programmers to built secure program that can’t be invaded by code in other parts of the program.\n",
    "\n",
    "It is possible to have multiple objects to coexist without any interference.\n",
    "\n",
    "It is possible to map objects in the problem domain to those objects in the program.\n",
    "\n",
    "It is easy to partition the work in a project based on objects.\n",
    "\n",
    "The data-centered design approach enables us to capture more details of the model in an implementable form.\n",
    "\n",
    "Object-oriented systems can be easily upgraded from small to large system\n",
    "\n",
    "Message passing technique for communication between objects make the interface descriptions with external system much simpler.\n",
    "\n",
    "Software complexity can be easily managed."
   ]
  },
  {
   "cell_type": "markdown",
   "metadata": {},
   "source": [
    "###### Task 03:  function and method\n",
    "\n",
    "FUNCTIONS:\n",
    "Functions are like recipes. They can execute a set of instructions on data or variables and return the result. The beauty of functions is that they are recyclable. That is, the function can be used repeatedly without having to write the same code again.\n",
    "\n",
    "METHODS:\n",
    "A method, like a function, is a set of instructions that perform a task. The difference is that a method is associated with an object, while a function is not. "
   ]
  },
  {
   "cell_type": "markdown",
   "metadata": {},
   "source": [
    "###### Task 04: Define terms\n",
    "\n",
    "Class:\n",
    "In Object Oriented Programming, a Class is a blueprint for an object. In fact, classes describe the type of objects, while objects are usable instances of classes. Each Object was built from the same set of blueprints and therefore contains the same components (properties and methods). A class can have any number of properties and methods to access the value of various kinds of methods.\n",
    "\n",
    "Object:\n",
    "An object is nothing but a self-contained component which consists of methods and properties to make a particular type of data useful. Object determines the behavior of the class. When you send a message to an object, you are asking the object to invoke or execute one of its methods.\n",
    "From a programming point of view, an object can be a data structure, a variable or a function. It has a memory location allocated. The object is designed as class hierarchies.\n",
    "\n",
    "Attribute:\n",
    "Instance Variable, the variable you use in the class.\n",
    "Example: Car is object and model, color, type are attributes of it.\n",
    "\n",
    "Behaviour:\n",
    "Method/function, the method/function you use in the class.\n",
    "Example: Object car can move, start, stop.\n"
   ]
  },
  {
   "cell_type": "code",
   "execution_count": 2,
   "metadata": {},
   "outputs": [],
   "source": [
    "###### Task 05: Practical\n",
    "class Car(object):\n",
    "\n",
    "  def __init__(self, model, color, company,cartype, speed_limit):\n",
    "    self.color = color\n",
    "    self.company = company\n",
    "    self.speed_limit = speed_limit\n",
    "    self.model = model\n",
    "    self.cartype = cartype\n",
    "\n",
    "  def start(self):\n",
    "    print(\"started\")\n",
    "\n",
    "  def stop(self):\n",
    "    print(\"stopped\")\n",
    "\n",
    "  def accelarate(self):\n",
    "    print(\"accelarating...\")\n",
    "    \n",
    "suzuki = Car(\"ertiga\", \"black\", \"suzuki\", \"four-wheel\", 60)\n",
    "audi = Car(\"A6\", \"black\", \"audi\", \"two-wheel\", 80)\n",
    "bmw = Car(\"B12\", \"white\", \"bmw\", \"racer\", 80)\n",
    "toyota = Car(\"Mehran\", \"green\", \"toyota\", \"van\", 80)\n",
    "mazda = Car(\"W11\", \"blue\", \"mazda\", \"bus\", 80)"
   ]
  },
  {
   "cell_type": "code",
   "execution_count": null,
   "metadata": {},
   "outputs": [],
   "source": []
  }
 ],
 "metadata": {
  "kernelspec": {
   "display_name": "Python 3",
   "language": "python",
   "name": "python3"
  },
  "language_info": {
   "codemirror_mode": {
    "name": "ipython",
    "version": 3
   },
   "file_extension": ".py",
   "mimetype": "text/x-python",
   "name": "python",
   "nbconvert_exporter": "python",
   "pygments_lexer": "ipython3",
   "version": "3.7.4"
  }
 },
 "nbformat": 4,
 "nbformat_minor": 2
}
