{
 "cells": [
  {
   "cell_type": "code",
   "execution_count": 9,
   "metadata": {},
   "outputs": [
    {
     "name": "stdout",
     "output_type": "stream",
     "text": [
      "# Solution 01\n",
      "Twinkle, twinkle, little star,\n",
      "      How I wonder what you are!\n",
      "            Up above the world so high,\n",
      "            Like a diamond in the sky.\n",
      "Twinkle, twinkle, little star,\n",
      "      How I wonder what you are\n",
      "\n",
      "# Solution 02\n",
      "Python Version: 3.7.4\n",
      "\n",
      "# Solution 03\n",
      "2019-10-31 10:04:37.194954\n",
      "\n",
      "# Solution 04\n",
      "Input the radius of the circle : 3\n",
      "The area of the circle is: 28.27431\n",
      "\n",
      "# Solution 05\n",
      "First Name: Salman\n",
      "Last Name: Ahmad\n",
      "Ahmad, Salman\n",
      "\n",
      "# Solution 06\n",
      "First Value: 2.3\n",
      "Last Value: 5\n",
      "7.3\n"
     ]
    }
   ],
   "source": [
    "print('# Solution 01');\n",
    "print('Twinkle, twinkle, little star,');\n",
    "print('      How I wonder what you are!');\n",
    "print('            Up above the world so high,');\n",
    "print('            Like a diamond in the sky.');\n",
    "print('Twinkle, twinkle, little star,');\n",
    "print('      How I wonder what you are');\n",
    "print('\\n# Solution 02');\n",
    "import platform;\n",
    "print('Python Version: '+platform.python_version());\n",
    "print('\\n# Solution 03');\n",
    "from datetime import datetime\n",
    "print(datetime.now());\n",
    "print('\\n# Solution 04');\n",
    "pi = 3.14159;\n",
    "radius = float(input (\"Input the radius of the circle : \"));\n",
    "print (\"The area of the circle is: \" + str(pi * radius ** 2));\n",
    "print('\\n# Solution 05');\n",
    "firstName = input(\"First Name: \");\n",
    "lastName = input(\"Last Name: \");\n",
    "print(lastName + ', ' + firstName);\n",
    "print('\\n# Solution 06');\n",
    "value1 = float(input(\"First Value: \"));\n",
    "value2 = float(input(\"Last Value: \"));\n",
    "print(value1 + value2);"
   ]
  },
  {
   "cell_type": "code",
   "execution_count": null,
   "metadata": {},
   "outputs": [],
   "source": []
  },
  {
   "cell_type": "code",
   "execution_count": null,
   "metadata": {},
   "outputs": [],
   "source": []
  }
 ],
 "metadata": {
  "kernelspec": {
   "display_name": "Python 3",
   "language": "python",
   "name": "python3"
  },
  "language_info": {
   "codemirror_mode": {
    "name": "ipython",
    "version": 3
   },
   "file_extension": ".py",
   "mimetype": "text/x-python",
   "name": "python",
   "nbconvert_exporter": "python",
   "pygments_lexer": "ipython3",
   "version": "3.7.4"
  }
 },
 "nbformat": 4,
 "nbformat_minor": 2
}
