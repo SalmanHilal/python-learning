{
 "cells": [
  {
   "cell_type": "code",
   "execution_count": 1,
   "metadata": {},
   "outputs": [
    {
     "name": "stdout",
     "output_type": "stream",
     "text": [
      "Enter a Number: 4\n",
      "Factorial of 4 is:  24\n"
     ]
    }
   ],
   "source": [
    "# Task 01\n",
    "def factorial(num):\n",
    "    if num == 1:\n",
    "        return num\n",
    "    else:\n",
    "        return num * factorial(num - 1)\n",
    "\n",
    "num = int(input(\"Enter a Number: \"))\n",
    "if num < 0:\n",
    "    print(\"Factorial cannot be found for negative numbers\")\n",
    "elif num == 0:\n",
    "    print(\"Factorial of 0 is 1\")\n",
    "else:\n",
    "    print(\"Factorial of\", num, \"is: \", factorial(num))"
   ]
  },
  {
   "cell_type": "code",
   "execution_count": 2,
   "metadata": {},
   "outputs": [
    {
     "name": "stdout",
     "output_type": "stream",
     "text": [
      "Enter text: Certified Python Programming\n",
      "Entered Text :  Certified Python Programming\n",
      "No. of Upper case characters :  3\n",
      "No. of Lower case Characters :  23\n"
     ]
    }
   ],
   "source": [
    "# Task 02\n",
    "def string_test(s):\n",
    "    d={\"UPPER_CASE\":0, \"LOWER_CASE\":0}\n",
    "    for c in s:\n",
    "        if c.isupper():\n",
    "           d[\"UPPER_CASE\"]+=1\n",
    "        elif c.islower():\n",
    "           d[\"LOWER_CASE\"]+=1\n",
    "        else:\n",
    "           pass\n",
    "    print (\"Entered Text : \", s)\n",
    "    print (\"No. of Upper case characters : \", d[\"UPPER_CASE\"])\n",
    "    print (\"No. of Lower case Characters : \", d[\"LOWER_CASE\"])\n",
    "\n",
    "string_test(input(\"Enter text: \"))"
   ]
  },
  {
   "cell_type": "code",
   "execution_count": 3,
   "metadata": {},
   "outputs": [
    {
     "name": "stdout",
     "output_type": "stream",
     "text": [
      "10\n",
      "28\n"
     ]
    }
   ],
   "source": [
    "# task 03\n",
    "list1 = [10, 21, 7, 45, 28, 93] \n",
    "for num in list1: \n",
    "    if num % 2 == 0: \n",
    "       print(num) "
   ]
  },
  {
   "cell_type": "code",
   "execution_count": 10,
   "metadata": {},
   "outputs": [
    {
     "name": "stdout",
     "output_type": "stream",
     "text": [
      "Enter word: racecar\n",
      "Entered word is palindrome.\n"
     ]
    }
   ],
   "source": [
    "# Task 04\n",
    "def isPalindrome(string):\n",
    "    left_pos = 0\n",
    "    right_pos = len(string) - 1\n",
    "    \n",
    "    while right_pos >= left_pos:\n",
    "        if not string[left_pos] == string[right_pos]:\n",
    "            return \"Entered word is not a palindrome.\";\n",
    "        left_pos += 1\n",
    "        right_pos -= 1\n",
    "        return \"Entered word is palindrome.\";\n",
    "\n",
    "print(isPalindrome(input(\"Enter word: \"))) "
   ]
  },
  {
   "cell_type": "code",
   "execution_count": 11,
   "metadata": {},
   "outputs": [
    {
     "name": "stdout",
     "output_type": "stream",
     "text": [
      "Enter Number: 4\n",
      "Entered number is not a prime number.\n"
     ]
    }
   ],
   "source": [
    "# Task 05\n",
    "def test_prime(n):\n",
    "    if (n==1):\n",
    "        return \"Entered number is not a prime number.\"\n",
    "    elif (n==2):\n",
    "        return \"Entered number is a prime number.\"\n",
    "    else:\n",
    "        for x in range(2,n):\n",
    "            if(n % x==0):\n",
    "                return \"Entered number is not a prime number.\"\n",
    "        return \"Entered number is a prime number.\"             \n",
    "print(test_prime(int(input(\"Enter Number: \"))))"
   ]
  },
  {
   "cell_type": "code",
   "execution_count": 12,
   "metadata": {},
   "outputs": [
    {
     "name": "stdout",
     "output_type": "stream",
     "text": [
      "Orange\n",
      "Brush\n",
      "Potato\n",
      "Shoes\n"
     ]
    }
   ],
   "source": [
    "# task 06\n",
    "def fruits(*fnames):\n",
    "   for fruit in fnames:\n",
    "       print(fruit)\n",
    "\n",
    "fruits(\"Orange\",\"Brush\",\"Potato\",\"Shoes\")"
   ]
  },
  {
   "cell_type": "code",
   "execution_count": null,
   "metadata": {},
   "outputs": [],
   "source": []
  }
 ],
 "metadata": {
  "kernelspec": {
   "display_name": "Python 3",
   "language": "python",
   "name": "python3"
  },
  "language_info": {
   "codemirror_mode": {
    "name": "ipython",
    "version": 3
   },
   "file_extension": ".py",
   "mimetype": "text/x-python",
   "name": "python",
   "nbconvert_exporter": "python",
   "pygments_lexer": "ipython3",
   "version": "3.7.4"
  }
 },
 "nbformat": 4,
 "nbformat_minor": 2
}
