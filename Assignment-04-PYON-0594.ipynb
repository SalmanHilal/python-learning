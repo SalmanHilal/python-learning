{
 "cells": [
  {
   "cell_type": "code",
   "execution_count": 1,
   "metadata": {},
   "outputs": [
    {
     "name": "stdout",
     "output_type": "stream",
     "text": [
      "Enter First Name: Farhan\n",
      "Enter Last Name: Ahmad\n",
      "Enter Age: 25\n",
      "Enter City: Karachi\n",
      "Farhan\n",
      "Ahmad\n",
      "25\n",
      "Karachi\n",
      "Enter Qualification: BCS\n",
      "BCS\n",
      "Update Qualification: MCS\n",
      "Farhan\n",
      "Ahmad\n",
      "25\n",
      "Karachi\n"
     ]
    }
   ],
   "source": [
    "#Task 01\n",
    "bio_keys = ['first_name', 'last_name', 'age', 'city']\n",
    "bio = dict.fromkeys(bio_keys)\n",
    "\n",
    "bio['first_name']=input('Enter First Name: ')\n",
    "bio['last_name']=input('Enter Last Name: ')\n",
    "bio['age']=input('Enter Age: ')\n",
    "bio['city']=input('Enter City: ')\n",
    "\n",
    "for info in bio.values():\n",
    "    print(info)\n",
    "\n",
    "bio['qualification']=input('Enter Qualification: ')\n",
    "print(bio['qualification'])\n",
    "bio['qualification']=input('Update Qualification: ')\n",
    "\n",
    "del bio['qualification']\n",
    "\n",
    "for info in bio.values():\n",
    "    print(info)"
   ]
  },
  {
   "cell_type": "code",
   "execution_count": 3,
   "metadata": {},
   "outputs": [
    {
     "name": "stdout",
     "output_type": "stream",
     "text": [
      "\n",
      "city: Karachi\n",
      "country: Pakistan\n",
      "population: 14.91 million\n",
      "fact: also known as city of lights\n",
      "\n",
      "city: Islamabad\n",
      "country: Pakistan\n",
      "population: 1.015 million\n",
      "fact: capital of country\n",
      "\n",
      "city: Ankara\n",
      "country: Turkey\n",
      "population: 5.445 million\n",
      "fact: also known as angora\n"
     ]
    }
   ],
   "source": [
    "#Task 02\n",
    "cities_keys = ['Karachi', 'Islamabad', 'Ankara']\n",
    "cities = dict.fromkeys(cities_keys)\n",
    "cities['Karachi']={'country':'Pakistan','population':'14.91 million','fact':'also known as city of lights'}\n",
    "cities['Islamabad']={'country':'Pakistan','population':'1.015 million','fact':'capital of country'}\n",
    "cities['Ankara']={'country':'Turkey','population':'5.445 million','fact':'also known as angora'}\n",
    "\n",
    "for city, city_info in cities.items():\n",
    "    print(\"\\ncity:\", city)\n",
    "    \n",
    "    for key in city_info:\n",
    "        print(key + ':', city_info[key])"
   ]
  },
  {
   "cell_type": "code",
   "execution_count": 1,
   "metadata": {},
   "outputs": [
    {
     "name": "stdout",
     "output_type": "stream",
     "text": [
      "Enter our age: 25\n",
      "  Your ticket is $15.\n"
     ]
    }
   ],
   "source": [
    "#Task 03\n",
    "while True:\n",
    "    age = int(input('Enter our age: '))\n",
    "    if age < 3:\n",
    "        print(\"  You get in free!\")\n",
    "        break\n",
    "    elif age < 13:\n",
    "        print(\"  Your ticket is $10.\")\n",
    "        break\n",
    "    else:\n",
    "        print(\"  Your ticket is $15.\")\n",
    "        break"
   ]
  },
  {
   "cell_type": "code",
   "execution_count": 2,
   "metadata": {},
   "outputs": [
    {
     "name": "stdout",
     "output_type": "stream",
     "text": [
      "One of my favorite books is  Alice in Wonderland\n"
     ]
    }
   ],
   "source": [
    "#Task 04\n",
    "def favorite_book( title ):\n",
    "   print('One of my favorite books is ',title)\n",
    "   return;\n",
    "favorite_book('Alice in Wonderland')"
   ]
  },
  {
   "cell_type": "code",
   "execution_count": 3,
   "metadata": {},
   "outputs": [
    {
     "name": "stdout",
     "output_type": "stream",
     "text": [
      "Gues number 1 through 30, you have only 3 chances!\n",
      "Guess a number 1-30 : 15\n",
      "Chance  1 of 3: gues smaller number.\n",
      "Guess a number 1-30 : 13\n",
      "Chance  2 of 3: gues smaller number.\n",
      "Guess a number 1-30 : 5\n",
      "Chance  3 of 3: Game Over!\n"
     ]
    }
   ],
   "source": [
    "import random\n",
    "secret_number = random.randint(1, 30)\n",
    "tries, guess = 1, 0\n",
    "\n",
    "print('Gues number 1 through 30, you have only 3 chances!')\n",
    "\n",
    "while guess != secret_number:\n",
    "    guess = int(input('Guess a number 1-30 : '))\n",
    "    if tries > 2:\n",
    "        print('Chance ',tries,'of 3: Game Over!')\n",
    "        break\n",
    "    elif guess < secret_number:\n",
    "        print('Chance ',tries,'of 3: gues larger numer.')\n",
    "    elif guess > secret_number:\n",
    "        print('Chance ',tries,'of 3: gues smaller number.')\n",
    "    elif guess == secret_number:\n",
    "        print('You guessed it! The number was {} in {} tries'.format(guess, tries))\n",
    "        break\n",
    "    tries += 1"
   ]
  },
  {
   "cell_type": "code",
   "execution_count": null,
   "metadata": {},
   "outputs": [],
   "source": []
  }
 ],
 "metadata": {
  "kernelspec": {
   "display_name": "Python 3",
   "language": "python",
   "name": "python3"
  },
  "language_info": {
   "codemirror_mode": {
    "name": "ipython",
    "version": 3
   },
   "file_extension": ".py",
   "mimetype": "text/x-python",
   "name": "python",
   "nbconvert_exporter": "python",
   "pygments_lexer": "ipython3",
   "version": "3.7.4"
  }
 },
 "nbformat": 4,
 "nbformat_minor": 2
}
